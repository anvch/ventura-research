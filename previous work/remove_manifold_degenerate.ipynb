{
 "cells": [
  {
   "cell_type": "code",
   "execution_count": null,
   "metadata": {},
   "outputs": [],
   "source": [
    "import trimesh\n",
    "import open3d as o3d\n",
    "import numpy as np"
   ]
  },
  {
   "cell_type": "code",
   "execution_count": null,
   "metadata": {},
   "outputs": [],
   "source": [
    "scene = trimesh.load('ascheberg_DA_ip.glb') # can change scene name\n",
    "mesh = list(scene.geometry.values())[0]"
   ]
  },
  {
   "cell_type": "code",
   "execution_count": null,
   "metadata": {},
   "outputs": [],
   "source": [
    "# REMOVING DEGENERATE/DUPLICATE FACES W TRIMESH\n",
    "faces = mesh.faces\n",
    "normals = mesh.face_normals\n",
    "triangles = mesh.triangles\n",
    "vertices = mesh.vertices\n",
    "# unique_edges = mesh.edges_unique\n",
    "# print(\"Unique edges:\")\n",
    "# print(unique_edges)\n",
    "\n",
    "print(f\"BEFORE: Mesh has {len(faces)} triangles.\")\n",
    "\n",
    "print(\"Removing degenerate/duplicate faces...\")\n",
    "# remove degenerate/duplicate faces from mesh\n",
    "mesh.update_faces(mesh.nondegenerate_faces())\n",
    "mesh.update_faces(mesh.unique_faces())\n",
    "\n",
    "faces = mesh.faces\n",
    "print(f\"AFTER: Mesh has {len(faces)} triangles.\")\n"
   ]
  },
  {
   "cell_type": "code",
   "execution_count": null,
   "metadata": {},
   "outputs": [],
   "source": [
    "# MAKE THE OPEN3D MESH\n",
    "o3d_mesh = o3d.geometry.TriangleMesh(\n",
    "    o3d.utility.Vector3dVector(mesh.vertices),\n",
    "    o3d.utility.Vector3iVector(mesh.faces)\n",
    ")"
   ]
  },
  {
   "cell_type": "code",
   "execution_count": null,
   "metadata": {},
   "outputs": [],
   "source": [
    "# MANIFOLD CHECK + VISUALIZATION\n",
    "\n",
    "# check if edge manifold (no redundant triangles)\n",
    "edge_manifold_status = o3d_mesh.is_edge_manifold(allow_boundary_edges=True)\n",
    "print(\"Open3D edge_manifold check is: \", edge_manifold_status)\n",
    "\n",
    "# extract non-manifold edges\n",
    "edges = np.asarray(o3d_mesh.get_non_manifold_edges(allow_boundary_edges=True))\n",
    "vertices = np.asarray(o3d_mesh.vertices)\n",
    "\n",
    "print(edges)\n",
    "\n",
    "# visualize non-manifold edges\n",
    "lines_non_manifold = [[int(edge[0]), int(edge[1])] for edge in edges]\n",
    "print(lines_non_manifold)\n",
    "\n",
    "# create a LineSet for non-manifold edges\n",
    "line_set_non_manifold = o3d.geometry.LineSet()\n",
    "line_set_non_manifold.points = o3d.utility.Vector3dVector(vertices)\n",
    "line_set_non_manifold.lines = o3d.utility.Vector2iVector(lines_non_manifold)\n",
    "line_set_non_manifold.colors = o3d.utility.Vector3dVector(\n",
    "    [[1, 0, 0]] * len(lines_non_manifold)  # Red for non-manifold edges\n",
    ")\n",
    "\n",
    "# create the original mesh for context\n",
    "o3d_mesh.paint_uniform_color([0.7, 0.7, 0.7])  # Light gray for the mesh\n",
    "\n",
    "# visualize the mesh and highlighted edges\n",
    "o3d.visualization.draw_geometries([o3d_mesh, line_set_non_manifold])"
   ]
  },
  {
   "cell_type": "code",
   "execution_count": null,
   "metadata": {},
   "outputs": [],
   "source": [
    "# REMOVE NON MANIFOLD EDGES\n",
    "o3d_mesh_remove_non_manifold = o3d_mesh\n",
    "o3d_mesh_remove_non_manifold.remove_non_manifold_edges()\n",
    "\n",
    "o3d.visualization.draw_geometries([o3d_mesh_remove_non_manifold], mesh_show_wireframe=True)"
   ]
  },
  {
   "cell_type": "code",
   "execution_count": null,
   "metadata": {},
   "outputs": [],
   "source": [
    "# MERGE CLOSE VERTICES + VISUALIZATION\n",
    "o3d_mesh_merge_close_verts = o3d_mesh\n",
    "print(\"# of vertices before merge: \", len(o3d_mesh_merge_close_verts.vertices))\n",
    "o3d_mesh_merge_close_verts.merge_close_vertices(0.01)\n",
    "print(\"# of vertices after merge: \", len(o3d_mesh_merge_close_verts.vertices))\n",
    "o3d.visualization.draw_geometries([o3d_mesh_merge_close_verts], mesh_show_wireframe=True)\n"
   ]
  }
 ],
 "metadata": {
  "kernelspec": {
   "display_name": ".venv",
   "language": "python",
   "name": "python3"
  },
  "language_info": {
   "codemirror_mode": {
    "name": "ipython",
    "version": 3
   },
   "file_extension": ".py",
   "mimetype": "text/x-python",
   "name": "python",
   "nbconvert_exporter": "python",
   "pygments_lexer": "ipython3",
   "version": "3.12.0"
  }
 },
 "nbformat": 4,
 "nbformat_minor": 2
}
